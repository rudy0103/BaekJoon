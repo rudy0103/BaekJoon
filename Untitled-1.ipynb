{
 "metadata": {
  "language_info": {
   "codemirror_mode": {
    "name": "ipython",
    "version": 3
   },
   "file_extension": ".py",
   "mimetype": "text/x-python",
   "name": "python",
   "nbconvert_exporter": "python",
   "pygments_lexer": "ipython3",
   "version": "3.9.2"
  },
  "orig_nbformat": 2,
  "kernelspec": {
   "name": "python392jvsc74a57bd08730e1477d41c35606d206dd43eb391831b031adc408dea546e4ba189e5632b6",
   "display_name": "Python 3.9.2 64-bit"
  }
 },
 "nbformat": 4,
 "nbformat_minor": 2,
 "cells": [
  {
   "cell_type": "code",
   "execution_count": 21,
   "metadata": {},
   "outputs": [],
   "source": [
    "\n",
    "from sys import stdin as s\n",
    "s=open(\"input.txt\",\"rt\")\n",
    "\n",
    "n,m,v=map(int,s.readline().split())\n",
    "\n",
    "graph=[ [] for _ in range(n+1)]\n",
    "ch = [ 0 for i in range(n+1)]\n"
   ]
  },
  {
   "source": [
    "\n",
    "for _ in range(m):\n",
    "    start,destination=map(int,s.readline().split())\n",
    "    graph[start].append(destination)\n",
    "    graph[destination].append(start)"
   ],
   "cell_type": "code",
   "metadata": {},
   "execution_count": 22,
   "outputs": []
  },
  {
   "cell_type": "code",
   "execution_count": 23,
   "metadata": {},
   "outputs": [],
   "source": [
    "for li in graph:\n",
    "    li.sort()"
   ]
  },
  {
   "cell_type": "code",
   "execution_count": null,
   "metadata": {},
   "outputs": [],
   "source": [
    "DFS"
   ]
  },
  {
   "cell_type": "code",
   "execution_count": null,
   "metadata": {},
   "outputs": [],
   "source": []
  }
 ]
}